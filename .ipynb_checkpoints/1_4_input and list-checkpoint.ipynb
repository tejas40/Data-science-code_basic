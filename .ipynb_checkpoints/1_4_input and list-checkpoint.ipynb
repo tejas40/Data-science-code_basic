{
 "cells": [
  {
   "cell_type": "code",
   "execution_count": 1,
   "id": "f277ad73",
   "metadata": {},
   "outputs": [
    {
     "name": "stdout",
     "output_type": "stream",
     "text": [
      "Enter the first number10\n",
      "Enter the second number23\n",
      "The addition of two number is :33\n"
     ]
    }
   ],
   "source": [
    "n1=input(\"Enter the first number\")\n",
    "n2=input(\"Enter the second number\")\n",
    "sum=int(n1)+int(n2)\n",
    "print(f'The addition of two number is :{sum}')"
   ]
  },
  {
   "cell_type": "code",
   "execution_count": 2,
   "id": "e103554f",
   "metadata": {},
   "outputs": [
    {
     "name": "stdout",
     "output_type": "stream",
     "text": [
      "Enter the base of trangle12.4\n",
      "Enter the height of trangle3.2\n",
      "The area of trangel is 39.68000000000001\n"
     ]
    }
   ],
   "source": [
    "n1=float(input(\"Enter the base of trangle\"))\n",
    "n2=float(input(\"Enter the height of trangle\"))\n",
    "area=n1*n2\n",
    "print(f'The area of trangel is {area}')"
   ]
  },
  {
   "cell_type": "code",
   "execution_count": 3,
   "id": "9c8bc442",
   "metadata": {},
   "outputs": [],
   "source": [
    "l=[\"mitha\",\"smosa\",\"peda\",\"farsan\"]\n"
   ]
  },
  {
   "cell_type": "code",
   "execution_count": 4,
   "id": "10c198e0",
   "metadata": {},
   "outputs": [],
   "source": [
    "l[0:2]=[\"replace_value\"]"
   ]
  },
  {
   "cell_type": "code",
   "execution_count": 5,
   "id": "1d554c07",
   "metadata": {},
   "outputs": [
    {
     "data": {
      "text/plain": [
       "['replace_value', 'peda', 'farsan']"
      ]
     },
     "execution_count": 5,
     "metadata": {},
     "output_type": "execute_result"
    }
   ],
   "source": [
    "l"
   ]
  },
  {
   "cell_type": "code",
   "execution_count": 6,
   "id": "16c17b9f",
   "metadata": {},
   "outputs": [],
   "source": [
    "l[0]=\"char\""
   ]
  },
  {
   "cell_type": "code",
   "execution_count": 7,
   "id": "a2f2a4bc",
   "metadata": {},
   "outputs": [
    {
     "data": {
      "text/plain": [
       "['char', 'peda', 'farsan']"
      ]
     },
     "execution_count": 7,
     "metadata": {},
     "output_type": "execute_result"
    }
   ],
   "source": [
    "l"
   ]
  },
  {
   "cell_type": "code",
   "execution_count": 10,
   "id": "4551eea1",
   "metadata": {},
   "outputs": [
    {
     "data": {
      "text/plain": [
       "['char', 'h', 'a', 'r', 'farsan']"
      ]
     },
     "execution_count": 10,
     "metadata": {},
     "output_type": "execute_result"
    }
   ],
   "source": [
    "l[0]='char'\n",
    "l"
   ]
  },
  {
   "cell_type": "markdown",
   "id": "7ac4328c",
   "metadata": {},
   "source": [
    "# List excersize"
   ]
  },
  {
   "cell_type": "raw",
   "id": "fcf4466e",
   "metadata": {},
   "source": [
    "1.Let us say your expense for every month are listed below,\n",
    "January - 2200\n",
    "February - 2350\n",
    "March - 2600\n",
    "April - 2130\n",
    "May - 2190\n",
    "\n",
    "Create a list to store these monthly expenses and using that find out,\n",
    "\n",
    "1. In Feb, how many dollars you spent extra compare to January?\n",
    "2. Find out your total expense in first quarter (first three months) of the year.\n",
    "3. Find out if you spent exactly 2000 dollars in any month\n",
    "4. June month just finished and your expense is 1980 dollar. Add this item to our monthly expense list\n",
    "5. You returned an item that you bought in a month of April and\n",
    "got a refund of 200$. Make a correction to your monthly expense list\n",
    "based on this"
   ]
  },
  {
   "cell_type": "code",
   "execution_count": 12,
   "id": "2892abf0",
   "metadata": {},
   "outputs": [],
   "source": [
    "exp=[2200,2350,2600,2130,2190]"
   ]
  },
  {
   "cell_type": "code",
   "execution_count": 13,
   "id": "ec8ebf50",
   "metadata": {},
   "outputs": [
    {
     "data": {
      "text/plain": [
       "150"
      ]
     },
     "execution_count": 13,
     "metadata": {},
     "output_type": "execute_result"
    }
   ],
   "source": [
    "exp[1]-exp[0]"
   ]
  },
  {
   "cell_type": "code",
   "execution_count": 16,
   "id": "e9461f70",
   "metadata": {},
   "outputs": [
    {
     "data": {
      "text/plain": [
       "7150"
      ]
     },
     "execution_count": 16,
     "metadata": {},
     "output_type": "execute_result"
    }
   ],
   "source": [
    "quater_expense=exp[0]+exp[1]+exp[2]\n",
    "quater_expense"
   ]
  },
  {
   "cell_type": "code",
   "execution_count": 24,
   "id": "353cac78",
   "metadata": {},
   "outputs": [
    {
     "data": {
      "text/plain": [
       "False"
      ]
     },
     "execution_count": 24,
     "metadata": {},
     "output_type": "execute_result"
    }
   ],
   "source": [
    "#exp.index(2000)\n",
    "#or\n",
    "2000 in exp"
   ]
  },
  {
   "cell_type": "code",
   "execution_count": 18,
   "id": "0a0b59dd",
   "metadata": {},
   "outputs": [],
   "source": [
    "exp.append(1980)"
   ]
  },
  {
   "cell_type": "code",
   "execution_count": 20,
   "id": "68146ba0",
   "metadata": {},
   "outputs": [
    {
     "data": {
      "text/plain": [
       "[2200, 2350, 2600, 2130, 2190, 1980]"
      ]
     },
     "execution_count": 20,
     "metadata": {},
     "output_type": "execute_result"
    }
   ],
   "source": [
    "exp"
   ]
  },
  {
   "cell_type": "code",
   "execution_count": 21,
   "id": "f09fc9db",
   "metadata": {},
   "outputs": [],
   "source": [
    "exp[3]=exp[3]-200"
   ]
  },
  {
   "cell_type": "code",
   "execution_count": 22,
   "id": "14b74279",
   "metadata": {},
   "outputs": [
    {
     "data": {
      "text/plain": [
       "[2200, 2350, 2600, 1930, 2190, 1980]"
      ]
     },
     "execution_count": 22,
     "metadata": {},
     "output_type": "execute_result"
    }
   ],
   "source": [
    "exp"
   ]
  },
  {
   "cell_type": "raw",
   "id": "b3c536c2",
   "metadata": {},
   "source": [
    "You have a list of your favourite marvel super heros.\n",
    "heros=['spider man','thor','hulk','iron man','captain america']\n",
    "Using this find out,\n",
    "\n",
    "1. Length of the list\n",
    "2. Add 'black panther' at the end of this list\n",
    "3. You realize that you need to add 'black panther' after 'hulk',\n",
    "   so remove it from the list first and then add it after 'hulk'\n",
    "4. Now you don't like thor and hulk because they get angry easily :)\n",
    "   So you want to remove thor and hulk from list and replace them with doctor strange (because he is cool).\n",
    "   Do that with one line of code.\n",
    "5. Sort the heros list in alphabetical order (Hint. Use dir() functions to list down all functions available in list)"
   ]
  },
  {
   "cell_type": "code",
   "execution_count": 43,
   "id": "338a0376",
   "metadata": {},
   "outputs": [],
   "source": [
    "heros=['spider man','thor','hulk','iron man','captain america']"
   ]
  },
  {
   "cell_type": "code",
   "execution_count": 26,
   "id": "20d89bc1",
   "metadata": {},
   "outputs": [
    {
     "data": {
      "text/plain": [
       "5"
      ]
     },
     "execution_count": 26,
     "metadata": {},
     "output_type": "execute_result"
    }
   ],
   "source": [
    "len(heros)"
   ]
  },
  {
   "cell_type": "code",
   "execution_count": 46,
   "id": "e4531370",
   "metadata": {},
   "outputs": [],
   "source": [
    "heros.append(\"black panther\")"
   ]
  },
  {
   "cell_type": "code",
   "execution_count": 47,
   "id": "3bd9b624",
   "metadata": {},
   "outputs": [
    {
     "data": {
      "text/plain": [
       "['spider man', 'doctor stange', 'iron man', 'captain america', 'black panther']"
      ]
     },
     "execution_count": 47,
     "metadata": {},
     "output_type": "execute_result"
    }
   ],
   "source": [
    "heros"
   ]
  },
  {
   "cell_type": "code",
   "execution_count": 48,
   "id": "bbd6a183",
   "metadata": {},
   "outputs": [],
   "source": [
    "heros.remove(\"black panther\")"
   ]
  },
  {
   "cell_type": "code",
   "execution_count": 49,
   "id": "b76eacb8",
   "metadata": {},
   "outputs": [
    {
     "data": {
      "text/plain": [
       "['spider man', 'doctor stange', 'iron man', 'captain america']"
      ]
     },
     "execution_count": 49,
     "metadata": {},
     "output_type": "execute_result"
    }
   ],
   "source": [
    "heros"
   ]
  },
  {
   "cell_type": "code",
   "execution_count": 55,
   "id": "ef70ab48",
   "metadata": {},
   "outputs": [],
   "source": [
    "heros.insert(3,\"black panther\")"
   ]
  },
  {
   "cell_type": "code",
   "execution_count": 56,
   "id": "d90d786b",
   "metadata": {},
   "outputs": [
    {
     "data": {
      "text/plain": [
       "['spider man',\n",
       " 'doctor stange',\n",
       " 'black panther',\n",
       " 'black panther',\n",
       " 'captain america']"
      ]
     },
     "execution_count": 56,
     "metadata": {},
     "output_type": "execute_result"
    }
   ],
   "source": [
    "heros"
   ]
  },
  {
   "cell_type": "code",
   "execution_count": 57,
   "id": "1afc5196",
   "metadata": {},
   "outputs": [],
   "source": [
    "heros[1:3]=[\"doctor stange\"]"
   ]
  },
  {
   "cell_type": "code",
   "execution_count": 58,
   "id": "420ec4bf",
   "metadata": {},
   "outputs": [
    {
     "data": {
      "text/plain": [
       "['spider man', 'doctor stange', 'black panther', 'captain america']"
      ]
     },
     "execution_count": 58,
     "metadata": {},
     "output_type": "execute_result"
    }
   ],
   "source": [
    "heros"
   ]
  },
  {
   "cell_type": "code",
   "execution_count": 59,
   "id": "f18ede0a",
   "metadata": {},
   "outputs": [
    {
     "ename": "AttributeError",
     "evalue": "'builtin_function_or_method' object has no attribute 'heros'",
     "output_type": "error",
     "traceback": [
      "\u001b[1;31m---------------------------------------------------------------------------\u001b[0m",
      "\u001b[1;31mAttributeError\u001b[0m                            Traceback (most recent call last)",
      "Cell \u001b[1;32mIn[59], line 1\u001b[0m\n\u001b[1;32m----> 1\u001b[0m \u001b[38;5;28mdir\u001b[39m\u001b[38;5;241m.\u001b[39mheros\n",
      "\u001b[1;31mAttributeError\u001b[0m: 'builtin_function_or_method' object has no attribute 'heros'"
     ]
    }
   ],
   "source": [
    "dir.heros"
   ]
  },
  {
   "cell_type": "code",
   "execution_count": 60,
   "id": "998e0d6a",
   "metadata": {},
   "outputs": [
    {
     "data": {
      "text/plain": [
       "['__add__',\n",
       " '__class__',\n",
       " '__class_getitem__',\n",
       " '__contains__',\n",
       " '__delattr__',\n",
       " '__delitem__',\n",
       " '__dir__',\n",
       " '__doc__',\n",
       " '__eq__',\n",
       " '__format__',\n",
       " '__ge__',\n",
       " '__getattribute__',\n",
       " '__getitem__',\n",
       " '__getstate__',\n",
       " '__gt__',\n",
       " '__hash__',\n",
       " '__iadd__',\n",
       " '__imul__',\n",
       " '__init__',\n",
       " '__init_subclass__',\n",
       " '__iter__',\n",
       " '__le__',\n",
       " '__len__',\n",
       " '__lt__',\n",
       " '__mul__',\n",
       " '__ne__',\n",
       " '__new__',\n",
       " '__reduce__',\n",
       " '__reduce_ex__',\n",
       " '__repr__',\n",
       " '__reversed__',\n",
       " '__rmul__',\n",
       " '__setattr__',\n",
       " '__setitem__',\n",
       " '__sizeof__',\n",
       " '__str__',\n",
       " '__subclasshook__',\n",
       " 'append',\n",
       " 'clear',\n",
       " 'copy',\n",
       " 'count',\n",
       " 'extend',\n",
       " 'index',\n",
       " 'insert',\n",
       " 'pop',\n",
       " 'remove',\n",
       " 'reverse',\n",
       " 'sort']"
      ]
     },
     "execution_count": 60,
     "metadata": {},
     "output_type": "execute_result"
    }
   ],
   "source": [
    "dir(heros)"
   ]
  },
  {
   "cell_type": "code",
   "execution_count": 61,
   "id": "76b0dd80",
   "metadata": {},
   "outputs": [],
   "source": [
    "heros.sort()"
   ]
  },
  {
   "cell_type": "code",
   "execution_count": 62,
   "id": "4ae33517",
   "metadata": {},
   "outputs": [
    {
     "data": {
      "text/plain": [
       "['black panther', 'captain america', 'doctor stange', 'spider man']"
      ]
     },
     "execution_count": 62,
     "metadata": {},
     "output_type": "execute_result"
    }
   ],
   "source": [
    "heros"
   ]
  },
  {
   "cell_type": "code",
   "execution_count": null,
   "id": "787c0667",
   "metadata": {},
   "outputs": [],
   "source": [
    "heros.sort()"
   ]
  }
 ],
 "metadata": {
  "kernelspec": {
   "display_name": "Python 3 (ipykernel)",
   "language": "python",
   "name": "python3"
  },
  "language_info": {
   "codemirror_mode": {
    "name": "ipython",
    "version": 3
   },
   "file_extension": ".py",
   "mimetype": "text/x-python",
   "name": "python",
   "nbconvert_exporter": "python",
   "pygments_lexer": "ipython3",
   "version": "3.11.4"
  }
 },
 "nbformat": 4,
 "nbformat_minor": 5
}
