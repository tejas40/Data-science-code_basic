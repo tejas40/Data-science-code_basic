{
 "cells": [
  {
   "cell_type": "code",
   "execution_count": 49,
   "id": "2e958f09",
   "metadata": {},
   "outputs": [],
   "source": [
    "d={\"key\":\"value\",\"name\":\"John\",\"email\":\"john@gamil.com\",\"mobile\":123456,\"Address\":\"Mumbai\"}"
   ]
  },
  {
   "cell_type": "code",
   "execution_count": 50,
   "id": "8c957b27",
   "metadata": {},
   "outputs": [
    {
     "data": {
      "text/plain": [
       "dict_keys(['key', 'name', 'email', 'mobile', 'Address'])"
      ]
     },
     "execution_count": 50,
     "metadata": {},
     "output_type": "execute_result"
    }
   ],
   "source": [
    "d.keys()"
   ]
  },
  {
   "cell_type": "code",
   "execution_count": 13,
   "id": "4fda3e45",
   "metadata": {},
   "outputs": [
    {
     "data": {
      "text/plain": [
       "dict_values(['value', 'John', 'john@gamil.com', 123456, 'Mumbai'])"
      ]
     },
     "execution_count": 13,
     "metadata": {},
     "output_type": "execute_result"
    }
   ],
   "source": [
    "d.values()"
   ]
  },
  {
   "cell_type": "code",
   "execution_count": 18,
   "id": "ecd29723",
   "metadata": {},
   "outputs": [
    {
     "data": {
      "text/plain": [
       "'John'"
      ]
     },
     "execution_count": 18,
     "metadata": {},
     "output_type": "execute_result"
    }
   ],
   "source": [
    "d.get(\"name\")"
   ]
  },
  {
   "cell_type": "code",
   "execution_count": 23,
   "id": "4e30fa55",
   "metadata": {},
   "outputs": [
    {
     "data": {
      "text/plain": [
       "'John'"
      ]
     },
     "execution_count": 23,
     "metadata": {},
     "output_type": "execute_result"
    }
   ],
   "source": [
    "d.get(\"name\")"
   ]
  },
  {
   "cell_type": "code",
   "execution_count": 40,
   "id": "dc56884d",
   "metadata": {},
   "outputs": [],
   "source": [
    "D[\"key\"]=\"value\""
   ]
  },
  {
   "cell_type": "code",
   "execution_count": 47,
   "id": "ec40c4d4",
   "metadata": {},
   "outputs": [
    {
     "data": {
      "text/plain": [
       "{'m': None, 'u': None, 'b': None, 'a': None, 'i': None}"
      ]
     },
     "execution_count": 47,
     "metadata": {},
     "output_type": "execute_result"
    }
   ],
   "source": [
    "D.fromkeys(\"mumbai\")"
   ]
  },
  {
   "cell_type": "code",
   "execution_count": 48,
   "id": "20a3132d",
   "metadata": {},
   "outputs": [
    {
     "data": {
      "text/plain": [
       "{'key': 'value',\n",
       " 'name': 'John',\n",
       " 'email': 'john@gamil.com',\n",
       " 'mobile': 123456,\n",
       " 'Address': 'Mumbai'}"
      ]
     },
     "execution_count": 48,
     "metadata": {},
     "output_type": "execute_result"
    }
   ],
   "source": [
    "d"
   ]
  },
  {
   "cell_type": "code",
   "execution_count": 51,
   "id": "0ea6e868",
   "metadata": {},
   "outputs": [
    {
     "data": {
      "text/plain": [
       "{'name': 'John', 'email': 'john@gamil.com', 'mobile': 123456, 'key': 'value'}"
      ]
     },
     "execution_count": 51,
     "metadata": {},
     "output_type": "execute_result"
    }
   ],
   "source": [
    "D"
   ]
  },
  {
   "cell_type": "code",
   "execution_count": 52,
   "id": "260cd183",
   "metadata": {},
   "outputs": [
    {
     "data": {
      "text/plain": [
       "{'m': None, 'o': None, 'b': None, 'i': None, 'l': None, 'e': None}"
      ]
     },
     "execution_count": 52,
     "metadata": {},
     "output_type": "execute_result"
    }
   ],
   "source": [
    "D.fromkeys(\"mobile\")"
   ]
  },
  {
   "cell_type": "code",
   "execution_count": 53,
   "id": "2ffe9611",
   "metadata": {},
   "outputs": [
    {
     "data": {
      "text/plain": [
       "{'name': 'John', 'email': 'john@gamil.com', 'mobile': 123456, 'key': 'value'}"
      ]
     },
     "execution_count": 53,
     "metadata": {},
     "output_type": "execute_result"
    }
   ],
   "source": [
    "D"
   ]
  },
  {
   "cell_type": "code",
   "execution_count": 56,
   "id": "b54ded79",
   "metadata": {},
   "outputs": [],
   "source": [
    "D.setdefault(\"keys\")"
   ]
  },
  {
   "cell_type": "code",
   "execution_count": 64,
   "id": "03eb4c3d",
   "metadata": {},
   "outputs": [],
   "source": [
    "D[\"keys\"]=\"this is new key\""
   ]
  },
  {
   "cell_type": "code",
   "execution_count": 65,
   "id": "ee1381b1",
   "metadata": {},
   "outputs": [
    {
     "data": {
      "text/plain": [
       "{'key': 'value',\n",
       " 'name': 'John',\n",
       " 'email': 'john@gamil.com',\n",
       " 'mobile': 123456,\n",
       " 'Address': 'Mumbai'}"
      ]
     },
     "execution_count": 65,
     "metadata": {},
     "output_type": "execute_result"
    }
   ],
   "source": [
    "d"
   ]
  },
  {
   "cell_type": "code",
   "execution_count": 66,
   "id": "e8945fbc",
   "metadata": {},
   "outputs": [
    {
     "data": {
      "text/plain": [
       "{'name': 'John',\n",
       " 'email': 'john@gamil.com',\n",
       " 'mobile': 123456,\n",
       " 'key': 'value',\n",
       " 'keys': 'this is new key'}"
      ]
     },
     "execution_count": 66,
     "metadata": {},
     "output_type": "execute_result"
    }
   ],
   "source": [
    "D"
   ]
  },
  {
   "cell_type": "code",
   "execution_count": 76,
   "id": "c13588be",
   "metadata": {},
   "outputs": [],
   "source": [
    "d={\"name\":\"John\",\"email\":\"john@gamil.com\",\"mobile\":123456,\"Address\":\"Mumbai\",\"skills\":{\"ds\":\"python\",\"web\":\"HTML\"\" c++\"}}"
   ]
  },
  {
   "cell_type": "code",
   "execution_count": 80,
   "id": "a6720de2",
   "metadata": {},
   "outputs": [
    {
     "data": {
      "text/plain": [
       "'python'"
      ]
     },
     "execution_count": 80,
     "metadata": {},
     "output_type": "execute_result"
    }
   ],
   "source": [
    "d[\"skills\"][\"ds\"]"
   ]
  },
  {
   "cell_type": "code",
   "execution_count": 91,
   "id": "6dce1d91",
   "metadata": {},
   "outputs": [],
   "source": [
    "d.clear()"
   ]
  },
  {
   "cell_type": "code",
   "execution_count": 92,
   "id": "20e5c8db",
   "metadata": {},
   "outputs": [
    {
     "data": {
      "text/plain": [
       "{}"
      ]
     },
     "execution_count": 92,
     "metadata": {},
     "output_type": "execute_result"
    }
   ],
   "source": [
    "d"
   ]
  },
  {
   "cell_type": "code",
   "execution_count": 93,
   "id": "ee8de4e0",
   "metadata": {},
   "outputs": [
    {
     "data": {
      "text/plain": [
       "{}"
      ]
     },
     "execution_count": 93,
     "metadata": {},
     "output_type": "execute_result"
    }
   ],
   "source": [
    "d"
   ]
  },
  {
   "cell_type": "code",
   "execution_count": 94,
   "id": "b4c6c604",
   "metadata": {},
   "outputs": [],
   "source": [
    "d[\"key\"]=\"value\""
   ]
  },
  {
   "cell_type": "code",
   "execution_count": 95,
   "id": "7deef4d5",
   "metadata": {},
   "outputs": [
    {
     "data": {
      "text/plain": [
       "{'key': 'value'}"
      ]
     },
     "execution_count": 95,
     "metadata": {},
     "output_type": "execute_result"
    }
   ],
   "source": [
    "d"
   ]
  },
  {
   "cell_type": "code",
   "execution_count": 96,
   "id": "04793d70",
   "metadata": {},
   "outputs": [
    {
     "data": {
      "text/plain": [
       "{'name': 'John',\n",
       " 'email': 'john@gamil.com',\n",
       " 'mobile': 123456,\n",
       " 'key': 'value',\n",
       " 'keys': 'this is new key'}"
      ]
     },
     "execution_count": 96,
     "metadata": {},
     "output_type": "execute_result"
    }
   ],
   "source": [
    "D"
   ]
  },
  {
   "cell_type": "code",
   "execution_count": 97,
   "id": "e9cb0077",
   "metadata": {},
   "outputs": [],
   "source": [
    "d.update(D)"
   ]
  },
  {
   "cell_type": "code",
   "execution_count": 98,
   "id": "78f0d655",
   "metadata": {},
   "outputs": [
    {
     "data": {
      "text/plain": [
       "{'key': 'value',\n",
       " 'name': 'John',\n",
       " 'email': 'john@gamil.com',\n",
       " 'mobile': 123456,\n",
       " 'keys': 'this is new key'}"
      ]
     },
     "execution_count": 98,
     "metadata": {},
     "output_type": "execute_result"
    }
   ],
   "source": [
    "d"
   ]
  },
  {
   "cell_type": "code",
   "execution_count": 99,
   "id": "19d5a1c9",
   "metadata": {},
   "outputs": [
    {
     "data": {
      "text/plain": [
       "{'key': 'value',\n",
       " 'name': 'John',\n",
       " 'email': 'john@gamil.com',\n",
       " 'mobile': 123456,\n",
       " 'keys': 'this is new key'}"
      ]
     },
     "execution_count": 99,
     "metadata": {},
     "output_type": "execute_result"
    }
   ],
   "source": [
    "d"
   ]
  },
  {
   "cell_type": "code",
   "execution_count": 100,
   "id": "35bd45d7",
   "metadata": {},
   "outputs": [
    {
     "data": {
      "text/plain": [
       "{'name': 'John',\n",
       " 'email': 'john@gamil.com',\n",
       " 'mobile': 123456,\n",
       " 'key': 'value',\n",
       " 'keys': 'this is new key'}"
      ]
     },
     "execution_count": 100,
     "metadata": {},
     "output_type": "execute_result"
    }
   ],
   "source": [
    "D"
   ]
  },
  {
   "cell_type": "code",
   "execution_count": null,
   "id": "9334d521",
   "metadata": {},
   "outputs": [],
   "source": [
    "p={\"china\":143,\"india\":136,\"USA\":32,\"pakistan\":21} \n",
    "n1=china"
   ]
  },
  {
   "cell_type": "code",
   "execution_count": 6,
   "id": "27afe96c",
   "metadata": {},
   "outputs": [],
   "source": [
    "p.get(\"n1\")"
   ]
  },
  {
   "cell_type": "code",
   "execution_count": 1,
   "id": "361b8510",
   "metadata": {},
   "outputs": [],
   "source": [
    "s={\"info\":[600,630,620],\n",
    "\"ril\":[1430,1490,1567],\n",
    "\"mtl\":[234,180,160]}"
   ]
  },
  {
   "cell_type": "code",
   "execution_count": 2,
   "id": "31fd47c9",
   "metadata": {},
   "outputs": [
    {
     "data": {
      "text/plain": [
       "dict_items([('info', [600, 630, 620]), ('ril', [1430, 1490, 1567]), ('mtl', [234, 180, 160])])"
      ]
     },
     "execution_count": 2,
     "metadata": {},
     "output_type": "execute_result"
    }
   ],
   "source": [
    "s.items()"
   ]
  },
  {
   "cell_type": "code",
   "execution_count": 3,
   "id": "a05fd0e8",
   "metadata": {},
   "outputs": [
    {
     "data": {
      "text/plain": [
       "616.6666666666666"
      ]
     },
     "execution_count": 3,
     "metadata": {},
     "output_type": "execute_result"
    }
   ],
   "source": [
    "sum(s[\"info\"])/len(s[\"info\"])"
   ]
  },
  {
   "cell_type": "code",
   "execution_count": null,
   "id": "417f85d0",
   "metadata": {},
   "outputs": [],
   "source": [
    "s={\"info\":[600,630,620],\n",
    "\"ril\":[1430,1490,1567],\n",
    "\"mtl\":[234,180,160]}\n",
    "\n",
    "n=input(\"Enter the operation print / add: \")\n",
    " \n",
    "if n==\"print\":\n",
    "    for c,n in s.items():\n",
    "        print(c,\"==>\",n,\"==>\",round(sum(s[\"info\"])/len(s[\"info\"]),2)) ## s[\"info\"] : give the value in list[600,630,620]\n",
    "        #sum(s[\"info\"]) : add those list value & len(s[\"info\"] : divide that value with no of elemts & round result upto 2 point\n",
    "elif n==\"add\":\n",
    "    n1=input(\"Enter the stock u wanna add in the list\")\n",
    "    if n1 in s:\n",
    "        n2=input(\"enter stock price u wanna enter: \")\n",
    "        s[str(n1)]=str(n2)\n",
    "    else:\n",
    "        s[str(n1)]=str(n2)"
   ]
  },
  {
   "cell_type": "code",
   "execution_count": 18,
   "id": "4e200de6",
   "metadata": {},
   "outputs": [
    {
     "data": {
      "text/plain": [
       "{'info': '324', 'ril': [1430, 1490, 1567], 'mtl': [234, 180, 160]}"
      ]
     },
     "execution_count": 18,
     "metadata": {},
     "output_type": "execute_result"
    }
   ],
   "source": [
    "s"
   ]
  },
  {
   "cell_type": "code",
   "execution_count": 9,
   "id": "0ca1ba33",
   "metadata": {},
   "outputs": [],
   "source": [
    "s={\"info\":[600,630,620],\n",
    "\"ril\":[1430,1490,1567],\n",
    "\"mtl\":[234,180,160]}\n",
    " \n",
    "s[\"info\"].append(12)"
   ]
  },
  {
   "cell_type": "code",
   "execution_count": null,
   "id": "8bb82751",
   "metadata": {},
   "outputs": [],
   "source": []
  }
 ],
 "metadata": {
  "kernelspec": {
   "display_name": "Python 3 (ipykernel)",
   "language": "python",
   "name": "python3"
  },
  "language_info": {
   "codemirror_mode": {
    "name": "ipython",
    "version": 3
   },
   "file_extension": ".py",
   "mimetype": "text/x-python",
   "name": "python",
   "nbconvert_exporter": "python",
   "pygments_lexer": "ipython3",
   "version": "3.11.4"
  }
 },
 "nbformat": 4,
 "nbformat_minor": 5
}
