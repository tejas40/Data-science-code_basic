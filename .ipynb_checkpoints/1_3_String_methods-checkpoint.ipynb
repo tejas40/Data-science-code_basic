{
 "cells": [
  {
   "cell_type": "code",
   "execution_count": 15,
   "id": "c4f54b37",
   "metadata": {},
   "outputs": [
    {
     "name": "stdout",
     "output_type": "stream",
     "text": [
      "bhekrai nagar pune india\n",
      "bhekrai nagar \n",
      "pune \n",
      "india\n"
     ]
    }
   ],
   "source": [
    "street=\"bhekrai nagar\"\n",
    "city=\"pune\"\n",
    "country=\"india\"\n",
    "full_add=street+' ' +city+ ' '+country\n",
    "print(full_add)\n",
    "print(f'{street} \\n{city} \\n{country}')"
   ]
  },
  {
   "cell_type": "code",
   "execution_count": 28,
   "id": "d7df0014",
   "metadata": {},
   "outputs": [],
   "source": [
    "s=\"Earth revlos aroung the sun\""
   ]
  },
  {
   "cell_type": "code",
   "execution_count": 29,
   "id": "ca6f259d",
   "metadata": {},
   "outputs": [
    {
     "data": {
      "text/plain": [
       "'revlos'"
      ]
     },
     "execution_count": 29,
     "metadata": {},
     "output_type": "execute_result"
    }
   ],
   "source": [
    "s[6:12]"
   ]
  },
  {
   "cell_type": "code",
   "execution_count": 30,
   "id": "63edff66",
   "metadata": {},
   "outputs": [
    {
     "data": {
      "text/plain": [
       "'sun'"
      ]
     },
     "execution_count": 30,
     "metadata": {},
     "output_type": "execute_result"
    }
   ],
   "source": [
    "s[-3:]"
   ]
  },
  {
   "cell_type": "code",
   "execution_count": 33,
   "id": "c84dfdc5",
   "metadata": {},
   "outputs": [
    {
     "name": "stdout",
     "output_type": "stream",
     "text": [
      "i eat 10 fruits and 5 veggies\n"
     ]
    }
   ],
   "source": [
    "x=10\n",
    "y=5\n",
    "print(f'i eat',x,'fruits and',y,'veggies')"
   ]
  },
  {
   "cell_type": "code",
   "execution_count": 34,
   "id": "346a4fdb",
   "metadata": {},
   "outputs": [
    {
     "name": "stdout",
     "output_type": "stream",
     "text": [
      "i eat 10 vegitables and 5 fruits\n"
     ]
    }
   ],
   "source": [
    "print(f\"i eat {x} vegitables and {y} fruits\")"
   ]
  },
  {
   "cell_type": "code",
   "execution_count": 43,
   "id": "66727a58",
   "metadata": {},
   "outputs": [
    {
     "data": {
      "text/plain": [
       "'maine 10 samosa khaye'"
      ]
     },
     "execution_count": 43,
     "metadata": {},
     "output_type": "execute_result"
    }
   ],
   "source": [
    "s= \"maine 200 banana khaye\"\n",
    "s.replace(\"200 banana\",\"10 samosa\")"
   ]
  },
  {
   "cell_type": "code",
   "execution_count": 47,
   "id": "9c9bcd11",
   "metadata": {},
   "outputs": [
    {
     "name": "stdout",
     "output_type": "stream",
     "text": [
      "Enter the file nameImage is long and file name is this.img\n",
      "Image is long and file name is this\n"
     ]
    }
   ],
   "source": [
    "s=input(\"Enter the file name\")\n",
    "print(s[:-4])"
   ]
  },
  {
   "cell_type": "code",
   "execution_count": 2,
   "id": "97d47a42",
   "metadata": {},
   "outputs": [],
   "source": [
    "t=(\"c\",\"c++\",\"python\")\n",
    "a=\" \".join(t)"
   ]
  },
  {
   "cell_type": "code",
   "execution_count": 3,
   "id": "33893a96",
   "metadata": {},
   "outputs": [
    {
     "data": {
      "text/plain": [
       "'c c++ python'"
      ]
     },
     "execution_count": 3,
     "metadata": {},
     "output_type": "execute_result"
    }
   ],
   "source": [
    "a\n"
   ]
  },
  {
   "cell_type": "code",
   "execution_count": 4,
   "id": "aed6d7f1",
   "metadata": {},
   "outputs": [
    {
     "data": {
      "text/plain": [
       "str"
      ]
     },
     "execution_count": 4,
     "metadata": {},
     "output_type": "execute_result"
    }
   ],
   "source": [
    "type(a)"
   ]
  },
  {
   "cell_type": "code",
   "execution_count": 5,
   "id": "c07c54f7",
   "metadata": {},
   "outputs": [
    {
     "data": {
      "text/plain": [
       "tuple"
      ]
     },
     "execution_count": 5,
     "metadata": {},
     "output_type": "execute_result"
    }
   ],
   "source": [
    "type(t)"
   ]
  },
  {
   "cell_type": "code",
   "execution_count": 12,
   "id": "92da06cb",
   "metadata": {},
   "outputs": [
    {
     "ename": "TypeError",
     "evalue": "sequence item 0: expected str instance, int found",
     "output_type": "error",
     "traceback": [
      "\u001b[1;31m---------------------------------------------------------------------------\u001b[0m",
      "\u001b[1;31mTypeError\u001b[0m                                 Traceback (most recent call last)",
      "Cell \u001b[1;32mIn[12], line 2\u001b[0m\n\u001b[0;32m      1\u001b[0m l\u001b[38;5;241m=\u001b[39m[\u001b[38;5;241m3\u001b[39m,\u001b[38;5;241m5\u001b[39m]\n\u001b[1;32m----> 2\u001b[0m b\u001b[38;5;241m=\u001b[39m\u001b[38;5;124m\"\u001b[39m\u001b[38;5;124m \u001b[39m\u001b[38;5;124m\"\u001b[39m\u001b[38;5;241m.\u001b[39mjoin(l)\n",
      "\u001b[1;31mTypeError\u001b[0m: sequence item 0: expected str instance, int found"
     ]
    }
   ],
   "source": [
    "l=[3,5]\n",
    "b=\" \".join(l)"
   ]
  },
  {
   "cell_type": "code",
   "execution_count": 11,
   "id": "a39b4a85",
   "metadata": {},
   "outputs": [
    {
     "data": {
      "text/plain": [
       "'c c+++'"
      ]
     },
     "execution_count": 11,
     "metadata": {},
     "output_type": "execute_result"
    }
   ],
   "source": [
    "b"
   ]
  },
  {
   "cell_type": "code",
   "execution_count": 20,
   "id": "98e89aa6",
   "metadata": {},
   "outputs": [
    {
     "data": {
      "text/plain": [
       "True"
      ]
     },
     "execution_count": 20,
     "metadata": {},
     "output_type": "execute_result"
    }
   ],
   "source": [
    "s='''This is the new \n",
    "this is second\n",
    "'''\n",
    "s.endswith(\"\\n\")"
   ]
  },
  {
   "cell_type": "code",
   "execution_count": 21,
   "id": "f6360064",
   "metadata": {},
   "outputs": [],
   "source": [
    "s={2,6,3,20,45,56,60}"
   ]
  },
  {
   "cell_type": "code",
   "execution_count": null,
   "id": "c57400db",
   "metadata": {},
   "outputs": [],
   "source": []
  }
 ],
 "metadata": {
  "kernelspec": {
   "display_name": "Python 3 (ipykernel)",
   "language": "python",
   "name": "python3"
  },
  "language_info": {
   "codemirror_mode": {
    "name": "ipython",
    "version": 3
   },
   "file_extension": ".py",
   "mimetype": "text/x-python",
   "name": "python",
   "nbconvert_exporter": "python",
   "pygments_lexer": "ipython3",
   "version": "3.11.4"
  }
 },
 "nbformat": 4,
 "nbformat_minor": 5
}
