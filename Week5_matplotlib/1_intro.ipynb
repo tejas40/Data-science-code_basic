{
 "cells": [
  {
   "cell_type": "code",
   "execution_count": 1,
   "id": "87cee981",
   "metadata": {},
   "outputs": [],
   "source": [
    "import matplotlib.pyplot as plt"
   ]
  },
  {
   "cell_type": "code",
   "execution_count": 2,
   "id": "d26b3b1a",
   "metadata": {},
   "outputs": [],
   "source": [
    "x=[1,2,3,4,5,6,7]\n",
    "y=[50,51,52,48,47,49,46]"
   ]
  },
  {
   "cell_type": "code",
   "execution_count": null,
   "id": "016dea00",
   "metadata": {
    "scrolled": false
   },
   "outputs": [],
   "source": [
    "plt.plot(x,y,marker=\"<\", color= \"green\",lw=7, ms=8,mec=\"b\",mew=1)\n",
    "plt.xlabel(\"Speed\" ,loc=\"left\")\n",
    "plt.ylabel(\"age\",loc=\"top\")\n",
    "plt.title(\"This is title\",loc=\"center\")\n",
    "plt.legend([\"blue\",\"green\"] )\n",
    "plt.show()"
   ]
  },
  {
   "cell_type": "code",
   "execution_count": null,
   "id": "e8cfed58",
   "metadata": {},
   "outputs": [],
   "source": []
  }
 ],
 "metadata": {
  "kernelspec": {
   "display_name": "Python 3 (ipykernel)",
   "language": "python",
   "name": "python3"
  },
  "language_info": {
   "codemirror_mode": {
    "name": "ipython",
    "version": 3
   },
   "file_extension": ".py",
   "mimetype": "text/x-python",
   "name": "python",
   "nbconvert_exporter": "python",
   "pygments_lexer": "ipython3",
   "version": "3.11.4"
  }
 },
 "nbformat": 4,
 "nbformat_minor": 5
}
